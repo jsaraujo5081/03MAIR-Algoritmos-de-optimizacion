{
  "nbformat": 4,
  "nbformat_minor": 0,
  "metadata": {
    "colab": {
      "name": "01IntroduccionPython.ipynb",
      "provenance": [],
      "collapsed_sections": [],
      "authorship_tag": "ABX9TyNFjDRDc8apqk1yEyGCOWqo",
      "include_colab_link": true
    },
    "kernelspec": {
      "name": "python3",
      "display_name": "Python 3"
    },
    "language_info": {
      "name": "python"
    }
  },
  "cells": [
    {
      "cell_type": "markdown",
      "metadata": {
        "id": "view-in-github",
        "colab_type": "text"
      },
      "source": [
        "<a href=\"https://colab.research.google.com/github/jsaraujo5081/03MAIR-Algoritmos-de-optimizacion/blob/master/01IntroduccionPython.ipynb\" target=\"_parent\"><img src=\"https://colab.research.google.com/assets/colab-badge.svg\" alt=\"Open In Colab\"/></a>"
      ]
    },
    {
      "cell_type": "markdown",
      "source": [
        ""
      ],
      "metadata": {
        "id": "uRhGwskNGkug"
      }
    },
    {
      "cell_type": "markdown",
      "source": [
        "## **INTRODUCCIÓN AL CURSO**"
      ],
      "metadata": {
        "id": "Ot030N0EGrBO"
      }
    },
    {
      "cell_type": "markdown",
      "source": [
        "### Contenido\n",
        "\n",
        "* El entorno Python\n",
        "* Objetos y librerías\n",
        "* Tipos de variables\n",
        "* Funciones\n",
        "* Nuestra primera función"
      ],
      "metadata": {
        "id": "5eGnPzdoHz7M"
      }
    },
    {
      "cell_type": "markdown",
      "source": [
        "### El entorno Python\n",
        "\n",
        "Python es un entorno de aplicaciones diseñadas para la\n",
        "manipulación de datos, el desarrollo de cálculos estadísticos y\n",
        "la visualización gráfica, que funciona bajo el paraguas “open\n",
        "source”.\n",
        "\n",
        "* Su lógica se basa en la utilización combinada de\n",
        "“paquetes” (o “librerías”) desarrollados por investigadores\n",
        "privados, pero validados por una red de pares calificados.\n",
        "* Python es un entorno en el sentido que su desarrollo está planificado\n",
        "y se encuentra dentro de un sistema coherente de nuevos\n",
        "métodos de análisis de datos.\n",
        "* Esto garantiza que sus resultados son confiables desde\n",
        "una perspectiva estadística y computacional.\n",
        "* A diferencia de otros lenguajes de programación estadística\n",
        "basada en objetos, Python tiende a mantener un alto estándar de\n",
        "rigurosidad computacional por sobre lo matemático.\n",
        "* Ha sido desarrollado por Ingenieros y no por matemáticos\n",
        "como es el caso de R."
      ],
      "metadata": {
        "id": "ZPocpslYKkmS"
      }
    },
    {
      "cell_type": "markdown",
      "source": [
        "### El mundo del análisis de datos\n",
        "\n",
        "Python es una de muchas herramientas para el\n",
        "análisis de datos en la actualidad que\n",
        "combinan el poder de la computación con\n",
        "la matemática.\n",
        "\n",
        "Mi TOP 5 personal:\n",
        "\n",
        "1. R\n",
        "2. Python\n",
        "3. DAX/Visual\n",
        "4. Javascript\n",
        "5. Google Go\n",
        "\n",
        "En los últimos años, sin embargo, han\n",
        "aparecido herramientas que buscan mayor\n",
        "facilidad para el analista a través del\n",
        "esquema “no code”. Por mencionar algunos casos:\n",
        "\n",
        "* Knime\n",
        "* H20\n",
        "* Alteryx\n",
        "* Datarobot\n"
      ],
      "metadata": {
        "id": "LCf-1Rh7LV7r"
      }
    },
    {
      "cell_type": "markdown",
      "source": [
        "### Contraste entre entornos de análisis estadístico\n",
        "\n",
        "| Parametro | SAS | Python | R |\n",
        "| --- | --- | --- | --- |\n",
        "| Costo / Disponibilidad | 3 | 5 | 5 |\n",
        "| Facilidad de aprendizaje | 4.5 | 3.5 | 2.5 |\n",
        "| Manejo de datos | 4 | 4 | 4 |\n",
        "| Capacidades gráficas | 3 | 4.5 | 4.5 |\n",
        "| Analítica avanzada | 4 | 4.5 | 4.5 |\n",
        "| Habilidad Laboral | 4 | 4.5 | 4.5 |\n",
        "| Servicio técnico | 4.5 | 3 | 3 |\n",
        "| Aprendizaje computacional | 2 | 4.5 | 4 |"
      ],
      "metadata": {
        "id": "6tzwMuXnMCeF"
      }
    },
    {
      "cell_type": "markdown",
      "source": [
        "### Importancia de saber programar con datos\n",
        "\n",
        "Según Linkedin para el año 2020 estas son las 10 habilidades duras más requeridas a nivel mundial:\n",
        "\n",
        "* Blockchain\n",
        "* Computación en la nube\n",
        "* Razonamiento analítico\n",
        "* Inteligencia artificial\n",
        "* Diseño UX\n",
        "* Inteligencia de negocios\n",
        "* Mercadeo\n",
        "* Ventas\n",
        "* Computación científica\n",
        "* Producción audiovisual"
      ],
      "metadata": {
        "id": "5ekqOv4FOc0B"
      }
    },
    {
      "cell_type": "code",
      "execution_count": null,
      "metadata": {
        "id": "Lj_usg7UGivj"
      },
      "outputs": [],
      "source": [
        ""
      ]
    }
  ]
}