{
  "nbformat": 4,
  "nbformat_minor": 0,
  "metadata": {
    "colab": {
      "name": "AG2-Juan_Araujo.ipynb",
      "version": "0.3.2",
      "provenance": [],
      "collapsed_sections": [],
      "include_colab_link": true
    },
    "kernelspec": {
      "name": "python3",
      "display_name": "Python 3"
    }
  },
  "cells": [
    {
      "cell_type": "markdown",
      "metadata": {
        "id": "view-in-github",
        "colab_type": "text"
      },
      "source": [
        "<a href=\"https://colab.research.google.com/github/jsaraujo5081/03MAIR-Algoritmos-de-optimizacion/blob/master/AG2/AG2_Juan_Araujo.ipynb\" target=\"_parent\"><img src=\"https://colab.research.google.com/assets/colab-badge.svg\" alt=\"Open In Colab\"/></a>"
      ]
    },
    {
      "metadata": {
        "id": "OQu8A4w6Hx2b",
        "colab_type": "text"
      },
      "cell_type": "markdown",
      "source": [
        "## Actividad Guiada 2 <br>\n",
        "**Juan Araujo - AG2** <br>\n",
        "URL:  https://github.com/jsaraujo5081/03MAIR-Algoritmos-de-optimizacion/tree/master/AG2"
      ]
    },
    {
      "metadata": {
        "id": "DMxwXfD9J-a7",
        "colab_type": "code",
        "colab": {}
      },
      "cell_type": "code",
      "source": [
        "import math\n",
        "import random\n",
        "import numpy as np"
      ],
      "execution_count": 0,
      "outputs": []
    },
    {
      "metadata": {
        "id": "3hivZT-IOVh7",
        "colab_type": "code",
        "colab": {}
      },
      "cell_type": "code",
      "source": [
        "#Decorador para calcular_tiempo a la función para la cual queremos calcular el tiempo de ejecución(Isabel Vázquez)\n",
        "##################################################################################################################\n",
        "\n",
        "from time import time\n",
        "#Función para calcular el tiempo de ejecución\n",
        "def calcular_tiempo(f):\n",
        "   \n",
        "    def wrapper(*args, **kwargs):        \n",
        "        inicio = time()       \n",
        "        resultado = f(*args, **kwargs)       \n",
        "        tiempo = time() - inicio\n",
        "        print(\"Tiempo de ejecución para algoritmo: \"+str(tiempo))\n",
        "        return resultado\n",
        "    \n",
        "    return wrapper"
      ],
      "execution_count": 0,
      "outputs": []
    },
    {
      "metadata": {
        "id": "vcaFLNjXKt4W",
        "colab_type": "code",
        "colab": {}
      },
      "cell_type": "code",
      "source": [
        "#Lista para calcular distancias\n",
        "N = 100\n",
        "random.seed(10)\n",
        "Lista_2D = [(random.randrange(1,N*10),random.randrange(1,N*10) )  for _ in range(N)]"
      ],
      "execution_count": 0,
      "outputs": []
    },
    {
      "metadata": {
        "id": "wU_EAAhIHqj1",
        "colab_type": "code",
        "outputId": "9a146ad8-c8a1-402f-85be-73d8678372d8",
        "colab": {
          "base_uri": "https://localhost:8080/",
          "height": 34
        }
      },
      "cell_type": "code",
      "source": [
        "#Definicion de distancia\n",
        "\n",
        "def distancia(A,B, metodo = \"Euclidean\"): #Es posible cambiar de distancia euclidea a manhattan\n",
        "  if type(A) is int or type(A) is float:\n",
        "    return abs(A-B)\n",
        "  else: \n",
        "    if metodo == \"Euclidean\":\n",
        "      return math.sqrt(sum([(A[i]-B[i])**2 for i in range(len(A))]))\n",
        "    elif metodo == \"Manhattan\":\n",
        "      return sum([abs(A[i]-B[i]) for i in range(len(A))])\n",
        "    \n",
        "#Prueba de funcionalidad\n",
        "distancia((2,5),(3,2), metodo = \"Manhattan\")\n"
      ],
      "execution_count": 5,
      "outputs": [
        {
          "output_type": "execute_result",
          "data": {
            "text/plain": [
              "4"
            ]
          },
          "metadata": {
            "tags": []
          },
          "execution_count": 5
        }
      ]
    },
    {
      "metadata": {
        "id": "mANvW3TVKpeY",
        "colab_type": "code",
        "outputId": "9a8d59ff-a887-4d06-fcdb-913e1bacf0e1",
        "colab": {
          "base_uri": "https://localhost:8080/",
          "height": 34
        }
      },
      "cell_type": "code",
      "source": [
        "#Aplicación de algoritmo de Fuerza Bruta\n",
        "\n",
        "#@calcular_tiempo #Para ejecutar calculador de tiempo eliminar '#' del inicio \n",
        "def mindist_fuerza_bruta(L, met = \"Euclidean\"):\n",
        "  if len(L) == 1: #Caso extremo de lista con un solo punto\n",
        "    return L[0]\n",
        "  mejor_distancia = 10000e10\n",
        "  for i in range(len(L)):\n",
        "    for j in range(i+1, len(L)):\n",
        "      d = distancia(L[i], L[j], metodo = met)\n",
        "      if d < mejor_distancia:\n",
        "        A_best, B_best = L[i], L[j]\n",
        "        mejor_distancia = d\n",
        "  return [A_best, B_best]\n",
        "\n",
        "#Prueba con Lista_2D\n",
        "mindist_fuerza_bruta(Lista_2D, met = \"Manhattan\") "
      ],
      "execution_count": 6,
      "outputs": [
        {
          "output_type": "execute_result",
          "data": {
            "text/plain": [
              "[(269, 468), (274, 467)]"
            ]
          },
          "metadata": {
            "tags": []
          },
          "execution_count": 6
        }
      ]
    },
    {
      "metadata": {
        "id": "vPPYu_zoP_lS",
        "colab_type": "code",
        "outputId": "8719efbf-3d7d-4a34-b2fd-04242d6c72e6",
        "colab": {
          "base_uri": "https://localhost:8080/",
          "height": 51
        }
      },
      "cell_type": "code",
      "source": [
        "#Aplicacion de algoritmo de divide y vencerás\n",
        "\n",
        "def mindist_divide_y_venceras (L, met = \"Euclidean\"):\n",
        "  #Si la lista es pequeña se usa fuerza bruta\n",
        "  if len(L) < 10:\n",
        "    return mindist_fuerza_bruta(L, met)\n",
        "  \n",
        "  #Division en sublistas\n",
        "  L_izq = sorted(L,key = lambda x: x[0])[:len(L)//2]\n",
        "  L_der = sorted(L,key = lambda x: x[0])[len(L)//2:]\n",
        "  ptos_izq = mindist_divide_y_venceras(L_izq, met)\n",
        "  ptos_der = mindist_divide_y_venceras(L_der, met)\n",
        "  \n",
        "  #Ajuste para evitar casos extremos\n",
        "  d_izq = distancia(ptos_izq[0],ptos_izq[1], met)\n",
        "  d_der = distancia(ptos_der[0],ptos_der[1], met)\n",
        "  \n",
        "  izq_max = L_izq[len(L)//2-1][0]\n",
        "  delta = round(min(d_izq,d_der))\n",
        "  \n",
        "  mask = [(l[0]>(izq_max - delta) and l[0]<(izq_max + delta)) for l in L]\n",
        "    \n",
        "  L_mid = [L[i] for i in range(len(L)) if mask[i]]\n",
        "  ptos_mid = mindist_fuerza_bruta(L_mid, met)\n",
        "  \n",
        "  if len(ptos_mid) == 2:\n",
        "    if distancia(ptos_mid[0],ptos_mid[1],met) < distancia(mindist_fuerza_bruta(ptos_izq + ptos_der, met)[0],mindist_fuerza_bruta(ptos_izq + ptos_der, met)[1],met): \n",
        "      return ptos_mid\n",
        "    else:\n",
        "      return mindist_fuerza_bruta(ptos_izq + ptos_der, met)\n",
        "  else:\n",
        "    return mindist_fuerza_bruta(ptos_izq + ptos_der, met)\n",
        "  \n",
        "#Prueba con Lista_2D\n",
        "@calcular_tiempo\n",
        "def lanza(L, met):\n",
        "  return mindist_divide_y_venceras(L,met)\n",
        "\n",
        "SOL = lanza(Lista_2D, met = \"Manhattan\")\n",
        "print(SOL)"
      ],
      "execution_count": 7,
      "outputs": [
        {
          "output_type": "stream",
          "text": [
            "Tiempo de ejecución para algoritmo: 0.001978635787963867\n",
            "[(269, 468), (274, 467)]\n"
          ],
          "name": "stdout"
        }
      ]
    },
    {
      "metadata": {
        "id": "xgv7AK2YVCcb",
        "colab_type": "code",
        "colab": {}
      },
      "cell_type": "code",
      "source": [
        "# Lista de tarifas\n",
        "TARIFAS = [[0,5,4,3,999,999,999],[999,0,999,2,3,999,11],[999,999, 0,1,999,4,10],[999,999,999, 0,5,6,9],[999,999, 999,999,0,999,4],[999,999, 999,999,999,0,3],[999,999,999,999,999,999,0]]"
      ],
      "execution_count": 0,
      "outputs": []
    },
    {
      "metadata": {
        "id": "_wwbR9v5XCkw",
        "colab_type": "code",
        "outputId": "3ca241b8-5a8f-4ac3-dad9-939f77871c72",
        "colab": {
          "base_uri": "https://localhost:8080/",
          "height": 102
        }
      },
      "cell_type": "code",
      "source": [
        "#Algoritmo de paseo por el rio\n",
        "\n",
        "def Precios(TARIFAS):\n",
        "  N = len(TARIFAS[0])\n",
        "  PRECIOS = [[999]*N for i in [999]*N]\n",
        "  RUTA = [[\"\"]*N for i in [999]*N]\n",
        "  \n",
        "  for i in range(N-1):\n",
        "    for j in range (i+1,N):\n",
        "      MIN = TARIFAS[i][j]\n",
        "      RUTA[i][j] = i\n",
        "  \n",
        "      for k in range (i,j):\n",
        "        if PRECIOS[i][k] + TARIFAS[k][j] < MIN:\n",
        "          MIN = PRECIOS[i][k] + TARIFAS[k][j] #No se requiere usar mínimo ya que es parte del condicional\n",
        "          RUTA[i][j] = k\n",
        "      \n",
        "      PRECIOS[i][j] = MIN\n",
        "  \n",
        "  return PRECIOS, RUTA\n",
        "\n",
        "PRECIOS, RUTA = Precios(TARIFAS)\n",
        "print(PRECIOS)\n",
        "print(RUTA)\n",
        "\n",
        "def calcular_ruta (RUTA, desde, hasta):\n",
        "  if desde == hasta:\n",
        "    return desde\n",
        "  else: \n",
        "    return str(calcular_ruta(RUTA, desde, RUTA[desde][hasta])) +  ',' + str(RUTA[desde][hasta]) \n",
        "\n",
        "print(\"\\nLa ruta es:\")  \n",
        "calcular_ruta(RUTA, 0,6)"
      ],
      "execution_count": 16,
      "outputs": [
        {
          "output_type": "stream",
          "text": [
            "[[999, 5, 4, 3, 8, 8, 11], [999, 999, 999, 2, 3, 8, 7], [999, 999, 999, 1, 6, 4, 7], [999, 999, 999, 999, 5, 6, 9], [999, 999, 999, 999, 999, 999, 4], [999, 999, 999, 999, 999, 999, 3], [999, 999, 999, 999, 999, 999, 999]]\n",
            "[['', 0, 0, 0, 1, 2, 5], ['', '', 1, 1, 1, 3, 4], ['', '', '', 2, 3, 2, 5], ['', '', '', '', 3, 3, 3], ['', '', '', '', '', 4, 4], ['', '', '', '', '', '', 5], ['', '', '', '', '', '', '']]\n",
            "\n",
            "La ruta es:\n"
          ],
          "name": "stdout"
        },
        {
          "output_type": "execute_result",
          "data": {
            "text/plain": [
              "'0,0,2,5'"
            ]
          },
          "metadata": {
            "tags": []
          },
          "execution_count": 16
        }
      ]
    }
  ]
}